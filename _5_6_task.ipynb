{
 "cells": [
  {
   "cell_type": "markdown",
   "metadata": {},
   "source": [
    "# Практическое задание №6"
   ]
  },
  {
   "cell_type": "markdown",
   "metadata": {},
   "source": [
    "## Задание 1"
   ]
  },
  {
   "cell_type": "markdown",
   "metadata": {},
   "source": [
    "Вектор – это частный случай матрицы 1хN и Nх1. Повторите материал для векторов, уделяя особое внимание умножению A∙B.\n",
    "Вычислите, по возможности не используя программирование: (5Е)–1, где Е – единичная матрица размера 5х5."
   ]
  },
  {
   "cell_type": "code",
   "execution_count": 155,
   "metadata": {},
   "outputs": [
    {
     "name": "stdout",
     "output_type": "stream",
     "text": [
      "дана единичная матрица размером 5х5:\n",
      "\n",
      "[[1 0 0 0 0]\n",
      " [0 1 0 0 0]\n",
      " [0 0 1 0 0]\n",
      " [0 0 0 1 0]\n",
      " [0 0 0 0 1]]\n",
      "\n",
      "вычислим  (5E)^(-1):\n",
      "(5E)^(-1) = 5^(-1) * E^(-1)\n",
      "единичная матрица транспонируется в единичную матрицу, значит:\n",
      "5^(-1) * E^(-1) = 5^(-1) * E, следовательно, мне нужно умножить каждый элемент матрицы на 5^(-1) :\n",
      "(5E)^(-1) = \n",
      "\n",
      "[[0.2,0,0,0,0]\n",
      "[0,0.2,0,0,0]\n",
      "[0,0,0.2,0,0]\n",
      "[0,0,0,0.2,0]\n",
      "[0,0,0,0,0.2]]\n",
      "\n",
      "проверим кодом:\n",
      "[[0.2 0.  0.  0.  0. ]\n",
      " [0.  0.2 0.  0.  0. ]\n",
      " [0.  0.  0.2 0.  0. ]\n",
      " [0.  0.  0.  0.2 0. ]\n",
      " [0.  0.  0.  0.  0.2]]\n"
     ]
    }
   ],
   "source": [
    "import numpy as np\n",
    "\n",
    "E = np.array([[1,0,0,0,0],[0,1,0,0,0], [0,0,1,0,0], [0,0,0,1,0],[0,0,0,0,1]])\n",
    "\n",
    "print('дана единичная матрица размером 5х5:\\n\\n'\n",
    "      f'{E}\\n\\n'\n",
    "      'вычислим  (5E)^(-1):\\n'\n",
    "      '(5E)^(-1) = 5^(-1) * E^(-1)\\n'\n",
    "      'единичная матрица транспонируется в единичную матрицу, значит:\\n'\n",
    "      '5^(-1) * E^(-1) = 5^(-1) * E, следовательно, мне нужно умножить каждый элемент матрицы на 5^(-1) :\\n'\n",
    "      '(5E)^(-1) = \\n\\n'\n",
    "      '[[0.2,0,0,0,0]\\n'\n",
    "      '[0,0.2,0,0,0]\\n' \n",
    "      '[0,0,0.2,0,0]\\n' \n",
    "      '[0,0,0,0.2,0]\\n'\n",
    "      '[0,0,0,0,0.2]]\\n\\n'\n",
    "      'проверим кодом:')\n",
    "\n",
    "result = (5 ** - 1) * E.transpose()\n",
    "print(result)"
   ]
  },
  {
   "cell_type": "markdown",
   "metadata": {},
   "source": [
    "## Задание 2"
   ]
  },
  {
   "cell_type": "markdown",
   "metadata": {},
   "source": [
    "5.2. Вычислите определитель:\n",
    "$$ \n",
    "\\left[\n",
    "  \\begin{array}{ccc}\n",
    "    {1} & {2} & {3} \\\\\n",
    "    {4} & {0} & {6} \\\\\n",
    "    {7} & {8} & {9} \\\\\n",
    "  \\end{array}\n",
    "\\right]\n",
    "$$"
   ]
  },
  {
   "cell_type": "markdown",
   "metadata": {},
   "source": [
    "если вручую, то способом саррюса:\n",
    "1*0*9 + 2*6*7 + 3*4*8 -7*0*3 -8*6*1 - 9*4*2 = 60"
   ]
  },
  {
   "cell_type": "code",
   "execution_count": 156,
   "metadata": {},
   "outputs": [
    {
     "name": "stdout",
     "output_type": "stream",
     "text": [
      "определитель матрицы\n",
      "[[1 2 3]\n",
      " [4 0 6]\n",
      " [7 8 9]]\n",
      "равен 60.0\n"
     ]
    }
   ],
   "source": [
    "M = np.array([[1, 2, 3],\n",
    "            [4, 0, 6],\n",
    "            [7, 8, 9]])\n",
    "det = np.linalg.det(M)\n",
    "print(f'определитель матрицы\\n{M}\\n'\n",
    "      f'равен {round(det, 2)}')"
   ]
  },
  {
   "cell_type": "markdown",
   "metadata": {},
   "source": [
    "## Задание 3"
   ]
  },
  {
   "cell_type": "markdown",
   "metadata": {},
   "source": [
    "5.3. 1) Вычислите матрицу, обратную данной:\n",
    "$$ \n",
    "\\left[\n",
    "  \\begin{array}{ccc}\n",
    "    {1} & {2} & {3} \\\\\n",
    "    {4} & {0} & {6} \\\\\n",
    "    {7} & {8} & {9} \\\\\n",
    "  \\end{array}\n",
    "\\right]\n",
    "$$"
   ]
  },
  {
   "cell_type": "markdown",
   "metadata": {},
   "source": [
    "если вручную, то \n",
    "\n",
    "находим определитель: 60 (отличен от нуля, значит, обратная матрица суещствует)\n",
    "\n",
    "находим матрицу миноров\n",
    "\n",
    "[[-48, -6, 32],\n",
    " [-6, -12, -6],\n",
    " [12, -6, -8]]\n",
    "\n",
    "находим матрицк алгебраических дополнений\n",
    "\n",
    "[[-48, 6, 32],\n",
    " [6, -12, 6],\n",
    " [12, 6, -8]]\n",
    "\n",
    "находим тарнспонированную матрицу алгебраических дополнений\n",
    "\n",
    "[[-48, 6, 12],\n",
    " [6, -12, 6],\n",
    " [32, 6, -8]]\n",
    "\n",
    "находим обратную матрицу умножая на -1\n",
    "\n",
    "[[48, -6, -12],\n",
    " [-6, 12, -6],\n",
    " [-32, -6, 8]]\n",
    "\n",
    "проверил умножением - не получается едиинчная, вместо 1 по диагонали -60\n",
    "\n",
    "тогда идем кодом:"
   ]
  },
  {
   "cell_type": "code",
   "execution_count": 158,
   "metadata": {},
   "outputs": [
    {
     "name": "stdout",
     "output_type": "stream",
     "text": [
      "проверка ручного способа:\n",
      "[[-60   0   0]\n",
      " [  0 -60   0]\n",
      " [  0   0 -60]]\n",
      "\n",
      "обратная матрица: \n",
      "[[-0.8         0.1         0.2       ]\n",
      " [ 0.1        -0.2         0.1       ]\n",
      " [ 0.53333333  0.1        -0.13333333]]\n",
      "\n",
      "\n",
      "проверка расчета numpy библиотекой:\n",
      "[[ 1.00000000e+00 -2.77555756e-17  5.55111512e-17]\n",
      " [ 0.00000000e+00  1.00000000e+00  1.11022302e-16]\n",
      " [ 0.00000000e+00  2.77555756e-17  1.00000000e+00]]\n"
     ]
    }
   ],
   "source": [
    "import numpy as np\n",
    "M = np.array([[1, 2, 3],\n",
    "             [4, 0, 6],\n",
    "             [7, 8, 9]])\n",
    "M_i_manual = np.array([[48, -6, -12],\n",
    "                    [-6, 12, -6],\n",
    "                    [-32, -6, 8]])\n",
    "print(f'проверка ручного способа:\\n{np.matmul(M,M_i_manual)}')\n",
    "M_i = np.linalg.inv(M)\n",
    "print(f'\\nобратная матрица: \\n{M_i}\\n')\n",
    "print(f'\\nпроверка расчета numpy библиотекой:\\n{np.matmul(M,M_i)}')\n",
    "# вроде, обратная найдена верно, вместо нулей минимальные значения - погрешности расчета"
   ]
  },
  {
   "cell_type": "markdown",
   "metadata": {},
   "source": [
    "5.3. 2) Приведите пример матрицы 4х4, ранг которой равен 1."
   ]
  },
  {
   "cell_type": "code",
   "execution_count": 159,
   "metadata": {},
   "outputs": [
    {
     "name": "stdout",
     "output_type": "stream",
     "text": [
      "например, марица: \n",
      " [[ 1 -1  3 -1]\n",
      " [-1  1 -1  1]\n",
      " [ 1 -1  1 -1]\n",
      " [-1  1 -1  1]]\n",
      "\n"
     ]
    }
   ],
   "source": [
    "import numpy as np\n",
    "# сгенерируем рандом:\n",
    "M = np.array([[1, -1, 3, -1],\n",
    "             [-1, 1, -1, 1],\n",
    "             [1, -1, 1, -1],\n",
    "             [-1, 1, -1, 1]])\n",
    "print(f'например, марица: \\n {M}\\n')"
   ]
  },
  {
   "cell_type": "markdown",
   "metadata": {},
   "source": [
    "## Задание 4"
   ]
  },
  {
   "cell_type": "markdown",
   "metadata": {},
   "source": [
    "5.4.\n",
    "Вычислите скалярное произведение двух векторов:  \n",
    "(1, 5)  и  (2, 8)"
   ]
  },
  {
   "cell_type": "code",
   "execution_count": null,
   "metadata": {},
   "outputs": [],
   "source": [
    "import numpy as np\n",
    "\n",
    "v_1 = np.array([1, 5])\n",
    "v_2 = np.array([2, 8])\n",
    "v_3 = np.dot(v_1, v_2)\n",
    "print(f'скалярное произведение векторов \\n{v_1}\\n и \\n{v_2}\\nсоставляет: \\n{v_3}')"
   ]
  },
  {
   "cell_type": "markdown",
   "metadata": {},
   "source": [
    "## Задание 5"
   ]
  },
  {
   "cell_type": "code",
   "execution_count": null,
   "metadata": {},
   "outputs": [],
   "source": [
    "5.5\n",
    "Вычислите смешанное произведение трех векторов:\n",
    "(1, 5, 0), (2, 8, 7) и (7, 1.5, 3) "
   ]
  },
  {
   "cell_type": "code",
   "execution_count": null,
   "metadata": {},
   "outputs": [],
   "source": [
    "v_1 = np.array([1, 5, 0])\n",
    "v_2 = np.array([2, 8, 7])\n",
    "v_3 = np.array([7, 1.5, 3])\n",
    "\n",
    "M = np.array([[1, 5, 0],\n",
    "             [2, 8, 7],\n",
    "             [7, 1.5, 3]])\n",
    "det = np.linalg.det(M)\n",
    "\n",
    "print(f'скалярное произведение векторов (v1, v2, v3) составляет {round(det,2)}')"
   ]
  },
  {
   "cell_type": "markdown",
   "metadata": {},
   "source": [
    "# Практическое задание №6"
   ]
  },
  {
   "cell_type": "markdown",
   "metadata": {},
   "source": [
    "## Задание 1"
   ]
  },
  {
   "cell_type": "markdown",
   "metadata": {},
   "source": [
    "1. Решите линейную систему:\n",
    "$$ \n",
    "\\left[\n",
    "  \\begin{array}{ccc}\n",
    "    {1} & {2} & {3} \\\\\n",
    "    {4} & {0} & {6} \\\\\n",
    "    {7} & {8} & {9} \\\\\n",
    "  \\end{array}\n",
    "\\right]\n",
    "* X = \n",
    "\\begin{bmatrix}\n",
    "           {12} \\\\\n",
    "           {2} \\\\\n",
    "           {1}\n",
    "         \\end{bmatrix}\n",
    "$$"
   ]
  },
  {
   "cell_type": "markdown",
   "metadata": {},
   "source": [
    "##### решаю интрументами python:"
   ]
  },
  {
   "cell_type": "code",
   "execution_count": 84,
   "metadata": {},
   "outputs": [],
   "source": [
    "import numpy as np"
   ]
  },
  {
   "cell_type": "code",
   "execution_count": 85,
   "metadata": {},
   "outputs": [],
   "source": [
    "A = np.array([[1, 2, 3],\n",
    "            [4, 0, 6],\n",
    "            [7, 8, 9]])\n",
    "B = np.array([12, 2, 1])\n",
    "X = np.linalg.solve(A, B)"
   ]
  },
  {
   "cell_type": "code",
   "execution_count": 86,
   "metadata": {},
   "outputs": [
    {
     "name": "stdout",
     "output_type": "stream",
     "text": [
      "x_1 = -9.2\n",
      " x_2 = 0.9\n",
      " x_3 = 6.47\n",
      "\n"
     ]
    }
   ],
   "source": [
    "print(f'x_1 = {round(solution[0],2)}\\n',\n",
    "      f'x_2 = {round(solution[1],2)}\\n',\n",
    "      f'x_3 = {round(solution[2],2)}\\n')  "
   ]
  },
  {
   "cell_type": "markdown",
   "metadata": {},
   "source": [
    "проверяю решение:"
   ]
  },
  {
   "cell_type": "code",
   "execution_count": 87,
   "metadata": {},
   "outputs": [
    {
     "data": {
      "text/plain": [
       "array([12.,  2.,  1.])"
      ]
     },
     "execution_count": 87,
     "metadata": {},
     "output_type": "execute_result"
    }
   ],
   "source": [
    "np.dot(A, X)"
   ]
  },
  {
   "cell_type": "markdown",
   "metadata": {},
   "source": [
    "все верно"
   ]
  },
  {
   "cell_type": "markdown",
   "metadata": {},
   "source": [
    "##### решаю методом обратной матрицы:"
   ]
  },
  {
   "cell_type": "markdown",
   "metadata": {},
   "source": [
    "находим определитель:"
   ]
  },
  {
   "cell_type": "code",
   "execution_count": 88,
   "metadata": {},
   "outputs": [
    {
     "data": {
      "text/plain": [
       "60"
      ]
     },
     "execution_count": 88,
     "metadata": {},
     "output_type": "execute_result"
    }
   ],
   "source": [
    "det = 1*0*9 + 2*6*7 + 3*4*8 - 7*0*3 - 8*6*1 - 9*4*2\n",
    "det"
   ]
  },
  {
   "cell_type": "code",
   "execution_count": 89,
   "metadata": {},
   "outputs": [
    {
     "data": {
      "text/plain": [
       "60.0"
      ]
     },
     "execution_count": 89,
     "metadata": {},
     "output_type": "execute_result"
    }
   ],
   "source": [
    "# проверяю\n",
    "round(np.linalg.det(A),0)"
   ]
  },
  {
   "cell_type": "markdown",
   "metadata": {},
   "source": [
    "определитель отличается от 0 -> нахожу обратную матрицу:"
   ]
  },
  {
   "cell_type": "code",
   "execution_count": 90,
   "metadata": {},
   "outputs": [
    {
     "data": {
      "text/plain": [
       "array([[-0.8       ,  0.1       ,  0.2       ],\n",
       "       [ 0.1       , -0.2       ,  0.1       ],\n",
       "       [ 0.53333333,  0.1       , -0.13333333]])"
      ]
     },
     "execution_count": 90,
     "metadata": {},
     "output_type": "execute_result"
    }
   ],
   "source": [
    "A_inv = np.linalg.inv(A)\n",
    "A_inv"
   ]
  },
  {
   "cell_type": "markdown",
   "metadata": {},
   "source": [
    "умножаю найденную обратную матрицу на вектор результата -> получаю вектор решения"
   ]
  },
  {
   "cell_type": "code",
   "execution_count": 91,
   "metadata": {},
   "outputs": [],
   "source": [
    "X = np.dot(A_inv, B)"
   ]
  },
  {
   "cell_type": "code",
   "execution_count": 94,
   "metadata": {},
   "outputs": [
    {
     "name": "stdout",
     "output_type": "stream",
     "text": [
      "x_1 = -9.2\n",
      " x_2 = 0.9\n",
      " x_3 = 6.47\n",
      "\n"
     ]
    }
   ],
   "source": [
    "print(f'x_1 = {round(solution[0],2)}\\n',\n",
    "      f'x_2 = {round(solution[1],2)}\\n',\n",
    "      f'x_3 = {round(solution[2],2)}\\n')  "
   ]
  },
  {
   "cell_type": "markdown",
   "metadata": {},
   "source": [
    "проверяю:"
   ]
  },
  {
   "cell_type": "code",
   "execution_count": 93,
   "metadata": {},
   "outputs": [
    {
     "data": {
      "text/plain": [
       "array([12.,  2.,  1.])"
      ]
     },
     "execution_count": 93,
     "metadata": {},
     "output_type": "execute_result"
    }
   ],
   "source": [
    "np.dot(A, X)"
   ]
  },
  {
   "cell_type": "markdown",
   "metadata": {},
   "source": [
    "все верно"
   ]
  },
  {
   "cell_type": "markdown",
   "metadata": {},
   "source": [
    "## Задание 2"
   ]
  },
  {
   "cell_type": "markdown",
   "metadata": {},
   "source": [
    "Найдите псевдорешение:\n",
    "\n",
    "x + 2 * y - z = 1\n",
    "\n",
    "3 * x - 4 * y = 7\n",
    "\n",
    "8 * x - 5 * y + 2 * z = 12\n",
    "\n",
    "2 * x - 5 * z = 7\n",
    "\n",
    "11 * x + 4 * y - 7 * z = 15"
   ]
  },
  {
   "cell_type": "markdown",
   "metadata": {},
   "source": [
    "numpy.linalg.lstsq решает для 2х неизвестных, как решать для 3х я не нашел, поэтому выражу одну переменную через другую: \n",
    "\n",
    "x = 1 + z - 2 * y\n",
    "\n",
    "получаю:\n",
    "\n",
    "- 10 * y + 3 * z = 4\n",
    "- 21 * y + 10 * z = 4\n",
    "- 4 * y - 3 * z = 5\n",
    "- 18 * y + 4 * z = 4\n",
    "\n",
    "отсюда записываю матрицы:"
   ]
  },
  {
   "cell_type": "code",
   "execution_count": 99,
   "metadata": {},
   "outputs": [
    {
     "name": "stderr",
     "output_type": "stream",
     "text": [
      "C:\\ProgramData\\Anaconda3\\lib\\site-packages\\ipykernel_launcher.py:6: FutureWarning: `rcond` parameter will change to the default of machine precision times ``max(M, N)`` where M and N are the input matrix dimensions.\n",
      "To use the future default and silence this warning we advise to pass `rcond=None`, to keep using the old, explicitly pass `rcond=-1`.\n",
      "  \n"
     ]
    },
    {
     "data": {
      "text/plain": [
       "(array([-0.46496043, -0.64543381]),\n",
       " array([6.77653811]),\n",
       " 2,\n",
       " array([31.40961526,  5.33254808]))"
      ]
     },
     "execution_count": 99,
     "metadata": {},
     "output_type": "execute_result"
    }
   ],
   "source": [
    "A = np.array([[-10, 3], \n",
    "              [-21, 10],\n",
    "              [-4, -3],\n",
    "              [-18, 4]])\n",
    "B = np.array([4, 4, 5, 4])\n",
    "rslt = np.linalg.lstsq(A, B)\n",
    "rslt"
   ]
  },
  {
   "cell_type": "markdown",
   "metadata": {},
   "source": [
    "из найденного y и z определяю x:"
   ]
  },
  {
   "cell_type": "code",
   "execution_count": 102,
   "metadata": {},
   "outputs": [
    {
     "name": "stdout",
     "output_type": "stream",
     "text": [
      "x = 1.2844870606687109, y = -0.4649604334497755, z = -0.6454338062308401\n"
     ]
    }
   ],
   "source": [
    "y = rslt[0][0]\n",
    "z = rslt[0][1]\n",
    "x = 1 + z - 2 * y\n",
    "\n",
    "print(f'x = {x}, y = {y}, z = {z}')"
   ]
  },
  {
   "cell_type": "markdown",
   "metadata": {},
   "source": [
    "оцениваю, вроде, похоже:"
   ]
  },
  {
   "cell_type": "code",
   "execution_count": 103,
   "metadata": {},
   "outputs": [
    {
     "data": {
      "text/plain": [
       "1.0"
      ]
     },
     "execution_count": 103,
     "metadata": {},
     "output_type": "execute_result"
    }
   ],
   "source": [
    "x + 2 * y - z "
   ]
  },
  {
   "cell_type": "code",
   "execution_count": 105,
   "metadata": {},
   "outputs": [
    {
     "data": {
      "text/plain": [
       "5.713302915805235"
      ]
     },
     "execution_count": 105,
     "metadata": {},
     "output_type": "execute_result"
    }
   ],
   "source": [
    "3 * x - 4 * y"
   ]
  },
  {
   "cell_type": "code",
   "execution_count": 106,
   "metadata": {},
   "outputs": [
    {
     "data": {
      "text/plain": [
       "11.309831040136885"
      ]
     },
     "execution_count": 106,
     "metadata": {},
     "output_type": "execute_result"
    }
   ],
   "source": [
    "8 * x - 5 * y + 2 * z"
   ]
  },
  {
   "cell_type": "code",
   "execution_count": 107,
   "metadata": {},
   "outputs": [
    {
     "data": {
      "text/plain": [
       "5.796143152491622"
      ]
     },
     "execution_count": 107,
     "metadata": {},
     "output_type": "execute_result"
    }
   ],
   "source": [
    "2 * x - 5 * z "
   ]
  },
  {
   "cell_type": "code",
   "execution_count": 108,
   "metadata": {},
   "outputs": [
    {
     "data": {
      "text/plain": [
       "16.787552577172598"
      ]
     },
     "execution_count": 108,
     "metadata": {},
     "output_type": "execute_result"
    }
   ],
   "source": [
    "11 * x + 4 * y - 7 * z"
   ]
  },
  {
   "cell_type": "markdown",
   "metadata": {},
   "source": [
    "## Задание 3"
   ]
  },
  {
   "cell_type": "markdown",
   "metadata": {},
   "source": [
    "3. Сколько решений имеет линейная система:\n",
    "$$ \n",
    "\\left[\n",
    "  \\begin{array}{ccc}\n",
    "    {1} & {2} & {3} \\\\\n",
    "    {4} & {5} & {6} \\\\\n",
    "    {7} & {8} & {9} \\\\\n",
    "  \\end{array}\n",
    "\\right]\n",
    "* X = \n",
    "\\begin{bmatrix}\n",
    "           {12} \\\\\n",
    "           {2} \\\\\n",
    "           {1}\n",
    "         \\end{bmatrix}\n",
    "$$\n",
    "\n",
    "Если ноль – то измените вектор правой части так, чтобы система стала совместной, и решите ее. "
   ]
  },
  {
   "cell_type": "code",
   "execution_count": 110,
   "metadata": {},
   "outputs": [],
   "source": [
    "A = np.array([[1, 2, 3],\n",
    "            [4, 5, 6],\n",
    "            [7, 8, 9]])\n",
    "B = np.array([12, 2, 1])"
   ]
  },
  {
   "cell_type": "markdown",
   "metadata": {},
   "source": [
    "проверим, чему равен определитель матрицы А:"
   ]
  },
  {
   "cell_type": "code",
   "execution_count": 113,
   "metadata": {},
   "outputs": [
    {
     "data": {
      "text/plain": [
       "-9.51619735392994e-16"
      ]
     },
     "execution_count": 113,
     "metadata": {},
     "output_type": "execute_result"
    }
   ],
   "source": [
    "np.linalg.det(A)"
   ]
  },
  {
   "cell_type": "markdown",
   "metadata": {},
   "source": [
    "есть подозрение, что это ошибка, проверим вручную:"
   ]
  },
  {
   "cell_type": "code",
   "execution_count": 115,
   "metadata": {},
   "outputs": [
    {
     "data": {
      "text/plain": [
       "0"
      ]
     },
     "execution_count": 115,
     "metadata": {},
     "output_type": "execute_result"
    }
   ],
   "source": [
    "det = 1*5*9 + 2*6*7 + 3*4*8 - 7*5*3 - 8*6*1 - 9*4*2\n",
    "det"
   ]
  },
  {
   "cell_type": "markdown",
   "metadata": {},
   "source": [
    "определитель равен нулю -> система несовместна"
   ]
  },
  {
   "cell_type": "code",
   "execution_count": null,
   "metadata": {},
   "outputs": [],
   "source": [
    "x = np.linspace(-1, 3, 201)\n",
    "plt.plot(x, 2 - 1.5 * x)\n",
    "plt.plot(x, 0.75 * x - 0.25)\n",
    "plt.xlabel('x')\n",
    "plt.ylabel('y')\n",
    "plt.grid(True)\n",
    "plt.show()"
   ]
  },
  {
   "cell_type": "markdown",
   "metadata": {},
   "source": [
    "меняю вектор решения так, чтобы система имела решения:"
   ]
  },
  {
   "cell_type": "code",
   "execution_count": 119,
   "metadata": {},
   "outputs": [
    {
     "data": {
      "text/plain": [
       "2"
      ]
     },
     "execution_count": 119,
     "metadata": {},
     "output_type": "execute_result"
    }
   ],
   "source": [
    "# ранг матрицы A\n",
    "np.linalg.matrix_rank(A)"
   ]
  },
  {
   "cell_type": "code",
   "execution_count": 132,
   "metadata": {},
   "outputs": [
    {
     "data": {
      "text/plain": [
       "3"
      ]
     },
     "execution_count": 132,
     "metadata": {},
     "output_type": "execute_result"
    }
   ],
   "source": [
    "# ранг расширенной матрицы\n",
    "C = np.array([[1, 2, 3],\n",
    "             [4, 5, 6],\n",
    "             [7, 8, 9],\n",
    "             [12, 2, 1]])\n",
    "np.linalg.matrix_rank(C)"
   ]
  },
  {
   "cell_type": "code",
   "execution_count": 135,
   "metadata": {},
   "outputs": [
    {
     "data": {
      "text/plain": [
       "2"
      ]
     },
     "execution_count": 135,
     "metadata": {},
     "output_type": "execute_result"
    }
   ],
   "source": [
    "# меняю расширенную матрицы так, чтобы она имела тот же ранг, что исходная\n",
    "C = np.array([[1, 2, 3],\n",
    "             [4, 5, 6],\n",
    "             [7, 8, 9],\n",
    "             [12, 12, 12]])\n",
    "np.linalg.matrix_rank(C)"
   ]
  },
  {
   "cell_type": "code",
   "execution_count": 139,
   "metadata": {},
   "outputs": [],
   "source": [
    "# отсюда определяю вектор результата\n",
    "B = np.array([12, 12, 12])"
   ]
  },
  {
   "cell_type": "code",
   "execution_count": 142,
   "metadata": {},
   "outputs": [
    {
     "name": "stdout",
     "output_type": "stream",
     "text": [
      "решение:\n",
      "[  2.4 -16.8  14.4]\n"
     ]
    }
   ],
   "source": [
    "print(f'решение:\\n{np.linalg.solve(A, B)}')"
   ]
  },
  {
   "cell_type": "markdown",
   "metadata": {},
   "source": [
    "## Задание 4"
   ]
  },
  {
   "cell_type": "markdown",
   "metadata": {},
   "source": [
    "4. Вычислите LU-разложение матрицы:\n",
    "\n",
    "$$ \n",
    "\\left[\n",
    "  \\begin{array}{ccc}\n",
    "    {1} & {2} & {3} \\\\\n",
    "    {2} & {16} & {21} \\\\\n",
    "    {4} & {28} & {73} \\\\\n",
    "  \\end{array}\n",
    "\\right]\n",
    "$$\n",
    "\n",
    "После этого придумайте вектор правых частей и решите полученную линейную систему трех уравнений с данной матрицей."
   ]
  },
  {
   "cell_type": "code",
   "execution_count": 149,
   "metadata": {},
   "outputs": [
    {
     "name": "stdout",
     "output_type": "stream",
     "text": [
      "P:\n",
      "[[0. 1. 0.]\n",
      " [0. 0. 1.]\n",
      " [1. 0. 0.]]\n",
      "L:\n",
      "[[ 1.    0.    0.  ]\n",
      " [ 0.25  1.    0.  ]\n",
      " [ 0.5  -0.4   1.  ]]\n",
      "U:\n",
      "[[  4.    28.    73.  ]\n",
      " [  0.    -5.   -15.25]\n",
      " [  0.     0.   -21.6 ]]\n"
     ]
    }
   ],
   "source": [
    "import scipy\n",
    "import scipy.linalg\n",
    "\n",
    "A = np.array([[1, 2, 3],\n",
    "             [2, 16, 21],\n",
    "             [4, 28, 73]])\n",
    "\n",
    "# библитекой раскладываю\n",
    "P, L, U = scipy.linalg.lu(A)\n",
    "print(f'P:\\n{P}\\nL:\\n{L}\\nU:\\n{U}')"
   ]
  },
  {
   "cell_type": "markdown",
   "metadata": {},
   "source": [
    "придумываю вектор правых частей с учетом совпадения рангов матрицы с расширенной матрицей"
   ]
  },
  {
   "cell_type": "code",
   "execution_count": 150,
   "metadata": {},
   "outputs": [
    {
     "data": {
      "text/plain": [
       "3"
      ]
     },
     "execution_count": 150,
     "metadata": {},
     "output_type": "execute_result"
    }
   ],
   "source": [
    "np.linalg.matrix_rank(A)"
   ]
  },
  {
   "cell_type": "code",
   "execution_count": 151,
   "metadata": {},
   "outputs": [
    {
     "data": {
      "text/plain": [
       "3"
      ]
     },
     "execution_count": 151,
     "metadata": {},
     "output_type": "execute_result"
    }
   ],
   "source": [
    "C = np.array([[1, 2, 3],\n",
    "             [2, 16, 21],\n",
    "             [4, 28, 73],\n",
    "             [1, 2, 4]])\n",
    "np.linalg.matrix_rank(C)"
   ]
  },
  {
   "cell_type": "code",
   "execution_count": null,
   "metadata": {},
   "outputs": [],
   "source": [
    "B = [1, 2, 4]"
   ]
  },
  {
   "cell_type": "markdown",
   "metadata": {},
   "source": [
    "решаю слау:"
   ]
  },
  {
   "cell_type": "code",
   "execution_count": 153,
   "metadata": {},
   "outputs": [
    {
     "name": "stdout",
     "output_type": "stream",
     "text": [
      "решение:\n",
      "[14.22222222 -0.44444444 -0.44444444]\n"
     ]
    }
   ],
   "source": [
    "print(f'решение:\\n{np.linalg.solve(A, B)}')"
   ]
  }
 ],
 "metadata": {
  "kernelspec": {
   "display_name": "Python 3",
   "language": "python",
   "name": "python3"
  },
  "language_info": {
   "codemirror_mode": {
    "name": "ipython",
    "version": 3
   },
   "file_extension": ".py",
   "mimetype": "text/x-python",
   "name": "python",
   "nbconvert_exporter": "python",
   "pygments_lexer": "ipython3",
   "version": "3.7.3"
  }
 },
 "nbformat": 4,
 "nbformat_minor": 2
}
