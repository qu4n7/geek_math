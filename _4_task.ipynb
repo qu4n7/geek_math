{
 "cells": [
  {
   "cell_type": "markdown",
   "metadata": {},
   "source": [
    "1. Напишите код, моделирующий выпадение поля в рулетке (с учетом поля зеро). "
   ]
  },
  {
   "cell_type": "code",
   "execution_count": 7,
   "metadata": {},
   "outputs": [
    {
     "name": "stdout",
     "output_type": "stream",
     "text": [
      "введите число на ставку (от 0 до 36)2\n",
      "выпало 35\n",
      "вы проиграли\n",
      "сыграем еще раз? (y/n)n\n"
     ]
    }
   ],
   "source": [
    "import random \n",
    "req = 'y'\n",
    "while req == 'y':\n",
    "    inpt = int(input('введите число на ставку (от 0 до 36)'))\n",
    "    res = random.randint(0,37)\n",
    "    print(f'выпало {res}')\n",
    "    if req == res:\n",
    "        print('вы выиграли ставку 1 к 36')\n",
    "    else:\n",
    "        print('вы проиграли')\n",
    "    req = input('сыграем еще раз? (y/n)')    "
   ]
  },
  {
   "cell_type": "markdown",
   "metadata": {},
   "source": [
    "2.1) Напишите код, проверяющий любую из теорем сложения или умножения вероятности на примере подбрасывания монетки."
   ]
  },
  {
   "cell_type": "code",
   "execution_count": 17,
   "metadata": {},
   "outputs": [
    {
     "name": "stdout",
     "output_type": "stream",
     "text": [
      "ПРОВЕРКА ТЕОРЕМЫ СЛОЖЕНИЯ\n",
      "\n",
      "в испытании из 1000 экспериментов\n",
      "орел выпал 479 раз\n",
      "решка выпала 521\n",
      "следовательно, вероятность выпадения\n",
      "орла составляет 0.479, решки - 0.521\n",
      "проверим следствие - сумма вероятностей противоположных событий равна единице:\n",
      "действительно, сумма P(A+B) = P(A) + P(B) составила: 1.0\n",
      "\n",
      "ПРОВЕРКА ТЕОРЕМЫ УМНОЖЕНИЯ\n",
      "\n",
      "предположим, у нас есть черный ящик, в котором находятся бочонки только с номером 1 или 2\n",
      "для проверки гипотезы проведем 1000 испатний монте карло, в котором будем вытаскивать сначала\n",
      "только один бочонок, посчитаем веротность выпадения каждого номера бочонка,\n",
      "после одновременно вытаскиваем 1000 раз 2 бочонка, вероятность выпадения независимы,\n",
      "следовательно, вероятность выпадения одновременно бочонка 1 и 2 должна составить\n",
      "P(AB) = P(A)*P(B) => 0.25, или близкое к этому значение\n",
      "действительно, при отдельной вероятности выпадения бочонка 1 - 0.487 и 2 - 0.513\n",
      "эмпирическая веротяность выпадения одновременно 2х бочонков составила 0.49\n",
      "отклонение результатов симуляции от рассчитанного значения составило 0.24\n",
      "\n",
      "и я только что опроверг теорему произвдеения вероятностей!!! (шучу)\n",
      "я не монять, в чем ошибка логики, если подскажите, буду признателен!\n"
     ]
    }
   ],
   "source": [
    "import random \n",
    "import numpy as np\n",
    "from collections import Counter\n",
    "\n",
    "print('проверка теоремы сложения\\n'.upper())\n",
    "# предлагаю сгенерировать множество испытаний монте-карло и по результату проверить теоремы\n",
    "# испытание монте-карло на монетке, распределени гаусса\n",
    "subarray = []\n",
    "n = 1000\n",
    "for i in range(n):\n",
    "    out = np.random.uniform(0,1)\n",
    "    if out < 0.5:\n",
    "        res = 'head'\n",
    "    if out > 0.5:\n",
    "        res = 'tails'\n",
    "    subarray.append(res)\n",
    "\n",
    "p_tails = list(Counter(subarray).values())[0]/n\n",
    "p_head = list(Counter(subarray).values())[1]/n\n",
    "print(f'в испытании из {n} экспериментов\\n'\n",
    "    f'орел выпал {list(Counter(subarray).values())[0]} раз\\n'\n",
    "     f'решка выпала {list(Counter(subarray).values())[1]}\\n'\n",
    "     'следовательно, вероятность выпадения\\n'\n",
    "     f'орла составляет {p_tails}, решки - {p_head}\\n'\n",
    "     'проверим следствие - сумма вероятностей противоположных событий равна единице:\\n'\n",
    "     f'действительно, сумма P(A+B) = P(A) + P(B) составила: {p_tails + p_head}')\n",
    "\n",
    "\n",
    "print('\\nпроверка теоремы умножения\\n'.upper())\n",
    "# интересно проверить формулу произведения вероятностей, возьмем независимые события\n",
    "barrels = []\n",
    "for i in range(n):\n",
    "    out = np.random.randint(1,3)\n",
    "    barrels.append(out)\n",
    "barrel_one = list(Counter(barrels).values())[0]\n",
    "barrel_two = list(Counter(barrels).values())[1]\n",
    "# тут я завис немного, как быстро симудировать выбор двух бочонков одноврменно\n",
    "# решил сгенерировать две случайные выборки (независимость событий), пройтись по каждому\n",
    "# шагу генерации и сопоставить эти две выборки - где не совпали, там у меня вероятность одновременно\n",
    "# вытащить бочонок 1 и 0\n",
    "sub_1, sub_2 = [], []\n",
    "for i in range(n):\n",
    "    out = np.random.randint(1,3)\n",
    "    sub_1.append(out)\n",
    "for i in range(n):\n",
    "    out = np.random.randint(1,3)\n",
    "    sub_2.append(out)\n",
    "both = 0\n",
    "for i in range(n):\n",
    "    if sub_1[i] != sub_2[i]:\n",
    "        both += 1\n",
    "print('предположим, у нас есть черный ящик, в котором находятся бочонки только с номером 1 или 2\\n'\n",
    "     f'для проверки гипотезы проведем {n} испатний монте карло, в котором будем вытаскивать сначала\\n'\n",
    "     f'только один бочонок, посчитаем веротность выпадения каждого номера бочонка,\\n'\n",
    "     f'после одновременно вытаскиваем {n} раз 2 бочонка, вероятность выпадения независимы,\\n'\n",
    "     f'следовательно, вероятность выпадения одновременно бочонка 1 и 2 должна составить\\n' \n",
    "     f'P(AB) = P(A)*P(B) => {round((barrel_one/n) * (barrel_two/n),2)}, или близкое к этому значение\\n'\n",
    "     f'действительно, при отдельной вероятности выпадения бочонка 1 - {barrel_one/n} и 2 - {barrel_two/n}\\n'\n",
    "     f'эмпирическая веротяность выпадения одновременно 2х бочонков составила {both/n}\\n'\n",
    "     'отклонение результатов симуляции от рассчитанного значения составило',\n",
    "      round(abs((barrel_one/n) * (barrel_two/n) - both/n),2))\n",
    "\n",
    "print('\\nи я только что опроверг теорему произвдеения вероятностей!!! (шучу)\\n'\n",
    "     'я не монять, в чем ошибка логики, если подскажите, буду признателен!')"
   ]
  },
  {
   "cell_type": "markdown",
   "metadata": {},
   "source": [
    "2.2) Сгенерируйте десять выборок случайных чисел х0, …, х9.\n",
    "и постройте гистограмму распределения случайной суммы х0+х1+ …+ х9."
   ]
  },
  {
   "cell_type": "code",
   "execution_count": 14,
   "metadata": {},
   "outputs": [
    {
     "data": {
      "image/png": "[encoded data removed]",
      "text/plain": [
       "<Figure size 432x288 with 1 Axes>"
      ]
     },
     "metadata": {
      "needs_background": "light"
     },
     "output_type": "display_data"
    }
   ],
   "source": [
    "import numpy as np\n",
    "import matplotlib.pyplot as plt\n",
    "\n",
    "x1 = [np.random.randint(1,100) for i in range(0, 30)]\n",
    "x2 = [np.random.randint(1,100) for i in range(0, 30)]\n",
    "x3 = [np.random.randint(1,100) for i in range(0, 30)]\n",
    "x4 = [np.random.randint(1,100) for i in range(0, 30)]\n",
    "x5 = [np.random.randint(1,100) for i in range(0, 30)]\n",
    "x6 = [np.random.randint(1,100) for i in range(0, 30)]\n",
    "x7 = [np.random.randint(1,100) for i in range(0, 30)]\n",
    "x8 = [np.random.randint(1,100) for i in range(0, 30)]\n",
    "x9 = [np.random.randint(1,100) for i in range(0, 30)]\n",
    "data = x1 + x2 + x3 + x4 + x5 + x6 + x7 + x8 + x9\n",
    "plt.hist(data, bins=20, color ='green', rwidth = 3)\n",
    "plt.xlabel('x', color = 'red')\n",
    "plt.title('распределение случайной величины x1 + x2 + x3 + x4 + x5 + x6 + x7 + x8 + x9', color = 'red')\n",
    "plt.show()"
   ]
  },
  {
   "cell_type": "markdown",
   "metadata": {},
   "source": [
    "3.1) Дополните код Монте-Карло последовательности независимых испытаний расчетом соответствующих вероятностей (через биномиальное распределение) \n",
    "и сравните результаты."
   ]
  },
  {
   "cell_type": "code",
   "execution_count": 45,
   "metadata": {},
   "outputs": [
    {
     "name": "stdout",
     "output_type": "stream",
     "text": [
      "эмпирическая вероятость события составляет 0.5008\n",
      "погрешность составила 0.0008\n"
     ]
    }
   ],
   "source": [
    "# не очень понял задачу, сделаю, как понимаю\n",
    "import numpy as np\n",
    "\n",
    "# генерирую симуляцию биноминального распределения\n",
    "# общее число экспериментов\n",
    "n = 1000\n",
    "# общее число испытаний в каждом эксперименте\n",
    "l = 100\n",
    "# вероятность наступления события \n",
    "k = 0.5\n",
    "# массив из n элементов, каждый из которых содержит кол-во наступивших событий в выьорке из l испытаний\n",
    "data = np.random.binomial(l, k, n)\n",
    "p_emp = np.sum(data)/n\n",
    "print(f'эмпирическая вероятость события составляет {round(p_emp/100,4)}\\n'\n",
    "     f'погрешность составила {round(abs(k - p_emp/100),4)}')"
   ]
  },
  {
   "cell_type": "markdown",
   "metadata": {},
   "source": [
    "3.2) Повторите расчеты, взяв другие значения n и k.\n",
    "\n",
    "4. Повторите расчеты, взяв другие значения n и k."
   ]
  },
  {
   "cell_type": "code",
   "execution_count": 49,
   "metadata": {},
   "outputs": [
    {
     "name": "stdout",
     "output_type": "stream",
     "text": [
      "кол-во симуляций {n}\n",
      "эмпирическая вероятость события составляет 0.4898\n",
      "погрешность составила 0.0102\n",
      "\n",
      "кол-во симуляций {n}\n",
      "эмпирическая вероятость события составляет 0.4998\n",
      "погрешность составила 0.0002\n"
     ]
    }
   ],
   "source": [
    "import numpy as np\n",
    "\n",
    "n = 100\n",
    "l = 100\n",
    "k = 0.5\n",
    "\n",
    "data = np.random.binomial(l, k, n)\n",
    "p_emp = np.sum(data)/n\n",
    "print('кол-во симуляций {n}')\n",
    "print(f'эмпирическая вероятость события составляет {round(p_emp/100,4)}\\n'\n",
    "     f'погрешность составила {round(abs(k - p_emp/100),4)}')\n",
    "\n",
    "n = 100000\n",
    "l = 100\n",
    "k = 0.5\n",
    "\n",
    "data = np.random.binomial(l, k, n)\n",
    "p_emp = np.sum(data)/n\n",
    "print('\\nкол-во симуляций {n}')\n",
    "print(f'эмпирическая вероятость события составляет {round(p_emp/100,4)}\\n'\n",
    "     f'погрешность составила {round(abs(k - p_emp/100),4)}')\n"
   ]
  },
  {
   "cell_type": "markdown",
   "metadata": {},
   "source": [
    "5. Дополните код расчетом коэффициента корреляции x и y по формуле"
   ]
  },
  {
   "cell_type": "code",
   "execution_count": null,
   "metadata": {},
   "outputs": [],
   "source": [
    "import numpy as np\n",
    "\n"
   ]
  }
 ],
 "metadata": {
  "kernelspec": {
   "display_name": "Python 3",
   "language": "python",
   "name": "python3"
  },
  "language_info": {
   "codemirror_mode": {
    "name": "ipython",
    "version": 3
   },
   "file_extension": ".py",
   "mimetype": "text/x-python",
   "name": "python",
   "nbconvert_exporter": "python",
   "pygments_lexer": "ipython3",
   "version": "3.7.3"
  }
 },
 "nbformat": 4,
 "nbformat_minor": 2
}
