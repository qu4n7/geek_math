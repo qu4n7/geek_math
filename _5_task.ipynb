{
 "cells": [
  {
   "cell_type": "markdown",
   "metadata": {},
   "source": [
    "5.1.\n",
    "1.\tВектор – это частный случай матрицы 1хN и Nх1. Повторите материал для векторов, уделяя особое внимание умножению A∙B.\n",
    "2.\tВычислите, по возможности не используя программирование: (5Е)–1, где Е – единичная матрица размера 5х5."
   ]
  },
  {
   "cell_type": "code",
   "execution_count": 18,
   "metadata": {},
   "outputs": [
    {
     "name": "stdout",
     "output_type": "stream",
     "text": [
      "дана единичная матрица размером 5х5:\n",
      "\n",
      "[[1 0 0 0 0]\n",
      " [0 1 0 0 0]\n",
      " [0 0 1 0 0]\n",
      " [0 0 0 1 0]\n",
      " [0 0 0 0 1]]\n",
      "\n",
      "вычислим  (5E)^(-1):\n",
      "(5E)^(-1) = 5^(-1) * E^(-1)\n",
      "единичная матрица транспонируется в единичную матрицу, значит:\n",
      "5^(-1) * E^(-1) = 5^(-1) * E, следовательно, мне нужно умножить каждый элемент матрицы на 5^(-1) :\n",
      "(5E)^(-1) = \n",
      "\n",
      "[[0.2,0,0,0,0]\n",
      "[0,0.2,0,0,0]\n",
      "[0,0,0.2,0,0]\n",
      "[0,0,0,0.2,0]\n",
      "[0,0,0,0,0.2]]\n",
      "\n",
      "проверим кодом:\n"
     ]
    },
    {
     "data": {
      "text/plain": [
       "array([[0.2, 0. , 0. , 0. , 0. ],\n",
       "       [0. , 0.2, 0. , 0. , 0. ],\n",
       "       [0. , 0. , 0.2, 0. , 0. ],\n",
       "       [0. , 0. , 0. , 0.2, 0. ],\n",
       "       [0. , 0. , 0. , 0. , 0.2]])"
      ]
     },
     "execution_count": 18,
     "metadata": {},
     "output_type": "execute_result"
    }
   ],
   "source": [
    "import numpy as np\n",
    "\n",
    "E = np.array([[1,0,0,0,0],[0,1,0,0,0], [0,0,1,0,0], [0,0,0,1,0],[0,0,0,0,1]])\n",
    "\n",
    "print('дана единичная матрица размером 5х5:\\n\\n'\n",
    "      f'{E}\\n\\n'\n",
    "      'вычислим  (5E)^(-1):\\n'\n",
    "      '(5E)^(-1) = 5^(-1) * E^(-1)\\n'\n",
    "      'единичная матрица транспонируется в единичную матрицу, значит:\\n'\n",
    "      '5^(-1) * E^(-1) = 5^(-1) * E, следовательно, мне нужно умножить каждый элемент матрицы на 5^(-1) :\\n'\n",
    "      '(5E)^(-1) = \\n\\n'\n",
    "      '[[0.2,0,0,0,0]\\n'\n",
    "      '[0,0.2,0,0,0]\\n' \n",
    "      '[0,0,0.2,0,0]\\n' \n",
    "      '[0,0,0,0.2,0]\\n'\n",
    "      '[0,0,0,0,0.2]]\\n\\n'\n",
    "      'проверим кодом:')\n",
    "\n",
    "result = (5 ** - 1) * E.transpose()\n",
    "print(result)"
   ]
  },
  {
   "attachments": {
    "image.png": {
     "image/png": "[encoded data removed]"
    }
   },
   "cell_type": "markdown",
   "metadata": {},
   "source": [
    "5.2. Вычислите определитель:\n",
    "![image.png](attachment:image.png)"
   ]
  },
  {
   "cell_type": "markdown",
   "metadata": {},
   "source": [
    "если вручую, то способом саррюса:\n",
    "1*0*9 + 2*6*7 + 3*4*8 -7*0*3 -8*6*1 - 9*4*2 = 60"
   ]
  },
  {
   "cell_type": "code",
   "execution_count": 26,
   "metadata": {},
   "outputs": [
    {
     "name": "stdout",
     "output_type": "stream",
     "text": [
      "определитель матрицы\n",
      "[[1 2 3]\n",
      " [4 0 6]\n",
      " [7 8 9]]\n",
      "равен 60.0\n"
     ]
    }
   ],
   "source": [
    "M = np.array([[1, 2, 3],\n",
    "            [4, 0, 6],\n",
    "            [7, 8, 9]])\n",
    "det = np.linalg.det(M)\n",
    "print(f'определитель матрицы\\n{M}\\n'\n",
    "      f'равен {round(det, 2)}')"
   ]
  },
  {
   "attachments": {
    "image.png": {
     "image/png": "[encoded data removed]"
    }
   },
   "cell_type": "markdown",
   "metadata": {},
   "source": [
    "5.3. 1) Вычислите матрицу, обратную данной:\n",
    " \n",
    "![image.png](attachment:image.png)"
   ]
  },
  {
   "cell_type": "markdown",
   "metadata": {},
   "source": [
    "если вручную, то \n",
    "\n",
    "находим определитель: 60 (отличен от нуля, значит, обратная матрица суещствует)\n",
    "\n",
    "находим матрицу миноров\n",
    "\n",
    "[[-48, -6, 32],\n",
    " [-6, -12, -6],\n",
    " [12, -6, -8]]\n",
    "\n",
    "находим матрицк алгебраических дополнений\n",
    "\n",
    "[[-48, 6, 32],\n",
    " [6, -12, 6],\n",
    " [12, 6, -8]]\n",
    "\n",
    "находим тарнспонированную матрицу алгебраических дополнений\n",
    "\n",
    "[[-48, 6, 12],\n",
    " [6, -12, 6],\n",
    " [32, 6, -8]]\n",
    "\n",
    "находим обратную матрицу умножая на -1\n",
    "\n",
    "[[48, -6, -12],\n",
    " [-6, 12, -6],\n",
    " [-32, -6, 8]]\n",
    "\n",
    "проверил умножением - не получается едиинчная, вместо 1 по диагонали -60\n",
    "\n",
    "тогда идем кодом:"
   ]
  },
  {
   "cell_type": "code",
   "execution_count": 14,
   "metadata": {},
   "outputs": [
    {
     "name": "stdout",
     "output_type": "stream",
     "text": [
      "проверка ручного способа:\n",
      "[[-60   0   0]\n",
      " [  0 -60   0]\n",
      " [  0   0 -60]]\n",
      "\n",
      "обратная матрица: \n",
      "[[-0.8         0.1         0.2       ]\n",
      " [ 0.1        -0.2         0.1       ]\n",
      " [ 0.53333333  0.1        -0.13333333]]\n",
      "\n",
      "\n",
      "проверка расчета numpy библиотекой:\n",
      "[[ 1.00000000e+00 -2.77555756e-17  5.55111512e-17]\n",
      " [ 0.00000000e+00  1.00000000e+00  1.11022302e-16]\n",
      " [ 0.00000000e+00  2.77555756e-17  1.00000000e+00]]\n"
     ]
    }
   ],
   "source": [
    "import numpy as np\n",
    "M = np.array([[1, 2, 3],\n",
    "             [4, 0, 6],\n",
    "             [7, 8, 9]])\n",
    "M_i_manual = np.array([[48, -6, -12],\n",
    "                    [-6, 12, -6],\n",
    "                    [-32, -6, 8]])\n",
    "print(f'проверка ручного способа:\\n{np.matmul(M,M_i_manual)}')\n",
    "M_i = np.linalg.inv(M)\n",
    "print(f'\\nобратная матрица: \\n{M_i}\\n')\n",
    "print(f'\\nпроверка расчета numpy библиотекой:\\n{np.matmul(M,M_i)}')\n",
    "# вроде, обратная найдена верно, вместо нулей минимальные значения - погрешности расчета"
   ]
  },
  {
   "cell_type": "markdown",
   "metadata": {},
   "source": [
    "5.3. 2) Приведите пример матрицы 4х4, ранг которой равен 1."
   ]
  },
  {
   "cell_type": "code",
   "execution_count": 90,
   "metadata": {},
   "outputs": [
    {
     "name": "stdout",
     "output_type": "stream",
     "text": [
      "например, марица: \n",
      " [[ 1 -1  3 -1]\n",
      " [-1  1 -1  1]\n",
      " [ 1 -1  1 -1]\n",
      " [-1  1 -1  1]]\n",
      "\n"
     ]
    }
   ],
   "source": [
    "import numpy as np\n",
    "# сгенерируем рандом:\n",
    "M = np.array([[1, -1, 3, -1],\n",
    "             [-1, 1, -1, 1],\n",
    "             [1, -1, 1, -1],\n",
    "             [-1, 1, -1, 1]])\n",
    "print(f'например, марица: \\n {M}\\n')"
   ]
  },
  {
   "cell_type": "markdown",
   "metadata": {},
   "source": [
    "5.4.\n",
    "Вычислите скалярное произведение двух векторов:  \n",
    "(1, 5)  и  (2, 8)"
   ]
  },
  {
   "cell_type": "code",
   "execution_count": 94,
   "metadata": {},
   "outputs": [
    {
     "name": "stdout",
     "output_type": "stream",
     "text": [
      "скалярное произведение векторов \n",
      "[1 5]\n",
      " и \n",
      "[2 8]\n",
      "составляет: \n",
      "42\n"
     ]
    }
   ],
   "source": [
    "import numpy as np\n",
    "\n",
    "v_1 = np.array([1, 5])\n",
    "v_2 = np.array([2, 8])\n",
    "v_3 = np.dot(v_1, v_2)\n",
    "print(f'скалярное произведение векторов \\n{v_1}\\n и \\n{v_2}\\nсоставляет: \\n{v_3}')"
   ]
  },
  {
   "cell_type": "markdown",
   "metadata": {},
   "source": [
    "5.5\n",
    "Вычислите смешанное произведение трех векторов:\n",
    "(1, 5, 0), (2, 8, 7) и (7, 1.5, 3) "
   ]
  },
  {
   "cell_type": "code",
   "execution_count": 102,
   "metadata": {},
   "outputs": [
    {
     "name": "stdout",
     "output_type": "stream",
     "text": [
      "скалярное произведение векторов (v1, v2, v3) составляет 228.5\n"
     ]
    }
   ],
   "source": [
    "v_1 = np.array([1, 5, 0])\n",
    "v_2 = np.array([2, 8, 7])\n",
    "v_3 = np.array([7, 1.5, 3])\n",
    "\n",
    "M = np.array([[1, 5, 0],\n",
    "             [2, 8, 7],\n",
    "             [7, 1.5, 3]])\n",
    "det = np.linalg.det(M)\n",
    "\n",
    "print(f'скалярное произведение векторов (v1, v2, v3) составляет {round(det,2)}')"
   ]
  }
 ],
 "metadata": {
  "kernelspec": {
   "display_name": "Python 3",
   "language": "python",
   "name": "python3"
  },
  "language_info": {
   "codemirror_mode": {
    "name": "ipython",
    "version": 3
   },
   "file_extension": ".py",
   "mimetype": "text/x-python",
   "name": "python",
   "nbconvert_exporter": "python",
   "pygments_lexer": "ipython3",
   "version": "3.7.3"
  }
 },
 "nbformat": 4,
 "nbformat_minor": 2
}
